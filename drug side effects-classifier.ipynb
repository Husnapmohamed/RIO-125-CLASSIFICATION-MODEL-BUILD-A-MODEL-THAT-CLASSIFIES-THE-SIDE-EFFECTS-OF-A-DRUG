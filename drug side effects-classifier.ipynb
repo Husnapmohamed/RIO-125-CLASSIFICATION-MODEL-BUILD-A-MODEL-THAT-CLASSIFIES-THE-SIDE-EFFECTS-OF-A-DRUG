{
 "cells": [
  {
   "cell_type": "code",
   "execution_count": 1,
   "metadata": {},
   "outputs": [],
   "source": [
    "from faker import Faker\n",
    "import numpy as np\n",
    "import pandas as pd\n",
    "from random import choice, sample\n",
    "import matplotlib.pyplot as plt\n",
    "import seaborn as sns\n",
    "%matplotlib inline"
   ]
  },
  {
   "cell_type": "code",
   "execution_count": 2,
   "metadata": {},
   "outputs": [],
   "source": [
    "import warnings\n",
    "warnings.filterwarnings('ignore')"
   ]
  },
  {
   "cell_type": "code",
   "execution_count": 3,
   "metadata": {},
   "outputs": [],
   "source": [
    "data = pd.read_csv('patientprofile.csv')"
   ]
  },
  {
   "cell_type": "code",
   "execution_count": 4,
   "metadata": {},
   "outputs": [
    {
     "data": {
      "text/html": [
       "<div>\n",
       "<style scoped>\n",
       "    .dataframe tbody tr th:only-of-type {\n",
       "        vertical-align: middle;\n",
       "    }\n",
       "\n",
       "    .dataframe tbody tr th {\n",
       "        vertical-align: top;\n",
       "    }\n",
       "\n",
       "    .dataframe thead th {\n",
       "        text-align: right;\n",
       "    }\n",
       "</style>\n",
       "<table border=\"1\" class=\"dataframe\">\n",
       "  <thead>\n",
       "    <tr style=\"text-align: right;\">\n",
       "      <th></th>\n",
       "      <th>patient_id</th>\n",
       "      <th>name</th>\n",
       "      <th>gender</th>\n",
       "      <th>age</th>\n",
       "      <th>race</th>\n",
       "      <th>side_effects</th>\n",
       "    </tr>\n",
       "  </thead>\n",
       "  <tbody>\n",
       "    <tr>\n",
       "      <th>0</th>\n",
       "      <td>48683</td>\n",
       "      <td>Justin Hopkins</td>\n",
       "      <td>female</td>\n",
       "      <td>10-20</td>\n",
       "      <td>Hispanic</td>\n",
       "      <td>No Side Effects</td>\n",
       "    </tr>\n",
       "    <tr>\n",
       "      <th>1</th>\n",
       "      <td>101343</td>\n",
       "      <td>Heather Murphy</td>\n",
       "      <td>male</td>\n",
       "      <td>40-50</td>\n",
       "      <td>Asian</td>\n",
       "      <td>Mild Side Effects</td>\n",
       "    </tr>\n",
       "    <tr>\n",
       "      <th>2</th>\n",
       "      <td>66360</td>\n",
       "      <td>Michael Burns</td>\n",
       "      <td>female</td>\n",
       "      <td>50-60</td>\n",
       "      <td>White</td>\n",
       "      <td>Extremely Severe Side Effects</td>\n",
       "    </tr>\n",
       "    <tr>\n",
       "      <th>3</th>\n",
       "      <td>244456</td>\n",
       "      <td>Amy Elliott</td>\n",
       "      <td>female</td>\n",
       "      <td>50-60</td>\n",
       "      <td>White</td>\n",
       "      <td>Moderate Side Effects</td>\n",
       "    </tr>\n",
       "    <tr>\n",
       "      <th>4</th>\n",
       "      <td>7720</td>\n",
       "      <td>Alexander Johnson</td>\n",
       "      <td>male</td>\n",
       "      <td>20-30</td>\n",
       "      <td>Black</td>\n",
       "      <td>Moderate Side Effects</td>\n",
       "    </tr>\n",
       "  </tbody>\n",
       "</table>\n",
       "</div>"
      ],
      "text/plain": [
       "   patient_id               name  gender    age      race  \\\n",
       "0       48683     Justin Hopkins  female  10-20  Hispanic   \n",
       "1      101343     Heather Murphy    male  40-50     Asian   \n",
       "2       66360      Michael Burns  female  50-60     White   \n",
       "3      244456        Amy Elliott  female  50-60     White   \n",
       "4        7720  Alexander Johnson    male  20-30     Black   \n",
       "\n",
       "                    side_effects  \n",
       "0                No Side Effects  \n",
       "1              Mild Side Effects  \n",
       "2  Extremely Severe Side Effects  \n",
       "3          Moderate Side Effects  \n",
       "4          Moderate Side Effects  "
      ]
     },
     "execution_count": 4,
     "metadata": {},
     "output_type": "execute_result"
    }
   ],
   "source": [
    "data.head()"
   ]
  },
  {
   "cell_type": "code",
   "execution_count": 5,
   "metadata": {},
   "outputs": [
    {
     "data": {
      "text/plain": [
       "(400000, 6)"
      ]
     },
     "execution_count": 5,
     "metadata": {},
     "output_type": "execute_result"
    }
   ],
   "source": [
    "data.shape"
   ]
  },
  {
   "cell_type": "code",
   "execution_count": 6,
   "metadata": {},
   "outputs": [
    {
     "name": "stdout",
     "output_type": "stream",
     "text": [
      "<class 'pandas.core.frame.DataFrame'>\n",
      "RangeIndex: 400000 entries, 0 to 399999\n",
      "Data columns (total 6 columns):\n",
      " #   Column        Non-Null Count   Dtype \n",
      "---  ------        --------------   ----- \n",
      " 0   patient_id    400000 non-null  int64 \n",
      " 1   name          400000 non-null  object\n",
      " 2   gender        400000 non-null  object\n",
      " 3   age           400000 non-null  object\n",
      " 4   race          400000 non-null  object\n",
      " 5   side_effects  400000 non-null  object\n",
      "dtypes: int64(1), object(5)\n",
      "memory usage: 18.3+ MB\n"
     ]
    }
   ],
   "source": [
    "data.info()"
   ]
  },
  {
   "cell_type": "code",
   "execution_count": 7,
   "metadata": {},
   "outputs": [
    {
     "data": {
      "text/plain": [
       "70-80     76284\n",
       "30-40     71743\n",
       "50-60     63967\n",
       "90-100    35914\n",
       "0-10      32124\n",
       "20-30     28305\n",
       "80-90     27994\n",
       "60-70     23966\n",
       "10-20     19853\n",
       "40-50     19850\n",
       "Name: age, dtype: int64"
      ]
     },
     "execution_count": 7,
     "metadata": {},
     "output_type": "execute_result"
    }
   ],
   "source": [
    "data['age'].value_counts()"
   ]
  },
  {
   "cell_type": "code",
   "execution_count": 8,
   "metadata": {},
   "outputs": [
    {
     "data": {
      "text/plain": [
       "female    279717\n",
       "male      120283\n",
       "Name: gender, dtype: int64"
      ]
     },
     "execution_count": 8,
     "metadata": {},
     "output_type": "execute_result"
    }
   ],
   "source": [
    "data['gender'].value_counts()"
   ]
  },
  {
   "cell_type": "code",
   "execution_count": 9,
   "metadata": {},
   "outputs": [],
   "source": [
    "# The correlation between craeted features is low, so mapping is done for improving accuracy"
   ]
  },
  {
   "cell_type": "code",
   "execution_count": 10,
   "metadata": {},
   "outputs": [],
   "source": [
    "data.loc[data['age'] == '0-10', 'age_score'] = '6'  \n",
    "data.loc[data['age'] == '10-20', 'age_score'] = '2' \n",
    "data.loc[data['age'] == '20-30', 'age_score'] = '5'  \n",
    "data.loc[data['age'] == '30-40', 'age_score'] = '9'  \n",
    "data.loc[data['age'] == '40-50', 'age_score'] = '1' \n",
    "data.loc[data['age'] == '50-60', 'age_score'] = '8'  \n",
    "data.loc[data['age'] == '60-70', 'age_score'] = '3'  \n",
    "data.loc[data['age'] == '70-80', 'age_score'] = '10' \n",
    "data.loc[data['age'] == '80-90', 'age_score'] = '4'  \n",
    "data.loc[data['age'] == '90-100', 'age_score'] = '7'  "
   ]
  },
  {
   "cell_type": "code",
   "execution_count": 11,
   "metadata": {},
   "outputs": [],
   "source": [
    "data.loc[data['side_effects'] == 'Moderate Side Effects', 'sideeffects_score'] = '5'  \n",
    "data.loc[data['side_effects'] == 'Severe Side Effects', 'sideeffects_score'] = '4' \n",
    "data.loc[data['side_effects'] == 'Mild Side Effects', 'sideeffects_score'] = '3'  \n",
    "data.loc[data['side_effects'] == 'Extremely Severe Side Effects', 'sideeffects_score'] = '2'  \n",
    "data.loc[data['side_effects'] == 'No Side Effects', 'sideeffects_score'] = '1' "
   ]
  },
  {
   "cell_type": "code",
   "execution_count": 12,
   "metadata": {},
   "outputs": [],
   "source": [
    "data.loc[data['race'] == 'White', 'race_score'] = '4'  \n",
    "data.loc[data['race'] == 'Hispanic', 'race_score'] = '3' \n",
    "data.loc[data['race'] == 'Black', 'race_score'] = '2'  \n",
    "data.loc[data['race'] == 'Asian', 'race_score'] = '1'  \n"
   ]
  },
  {
   "cell_type": "code",
   "execution_count": 13,
   "metadata": {},
   "outputs": [],
   "source": [
    "data.loc[data['gender'] == 'male', 'gender_score'] = '4'  \n",
    "data.loc[data['gender'] == 'female', 'gender_score'] = '6' \n"
   ]
  },
  {
   "cell_type": "code",
   "execution_count": 14,
   "metadata": {},
   "outputs": [],
   "source": [
    "data = data.astype({'age_score': 'int','race_score': 'int','sideeffects_score': 'int','gender_score': 'int'})"
   ]
  },
  {
   "cell_type": "code",
   "execution_count": 15,
   "metadata": {},
   "outputs": [],
   "source": [
    "data['score']=data['age_score']+data['race_score']+data['sideeffects_score']+data['gender_score']"
   ]
  },
  {
   "cell_type": "code",
   "execution_count": 16,
   "metadata": {},
   "outputs": [],
   "source": [
    "data['ranking']=data['score']/2"
   ]
  },
  {
   "cell_type": "code",
   "execution_count": 17,
   "metadata": {},
   "outputs": [
    {
     "data": {
      "image/png": "[encoded data removed]",
      "text/plain": [
       "<Figure size 720x360 with 1 Axes>"
      ]
     },
     "metadata": {
      "needs_background": "light"
     },
     "output_type": "display_data"
    }
   ],
   "source": [
    "count = data['side_effects'].value_counts()\n",
    "plt.figure(figsize=(10,5))\n",
    "sns.barplot(count.index, count.values, alpha=0.8, palette=\"prism\")\n",
    "plt.ylabel('Count', fontsize=12)\n",
    "plt.xlabel('side_effects', fontsize=12)\n",
    "plt.title('Side Effects of A Drug X')\n",
    "plt.show()"
   ]
  },
  {
   "cell_type": "code",
   "execution_count": 18,
   "metadata": {},
   "outputs": [
    {
     "name": "stdout",
     "output_type": "stream",
     "text": [
      "[128541, 111821, 87410, 72228]\n"
     ]
    },
    {
     "data": {
      "image/png": "[encoded data removed]",
      "text/plain": [
       "<Figure size 720x360 with 1 Axes>"
      ]
     },
     "metadata": {},
     "output_type": "display_data"
    }
   ],
   "source": [
    "# Race types and its values Single Pie chart\n",
    "populations = data['race'].value_counts()\n",
    "pop_size = populations.values.tolist() #Provides numerical values\n",
    "pop_types = populations.axes[0].tolist() #Converts index labels object to list\n",
    "print(pop_size)\n",
    "# Data to plot\n",
    "pop_labels = 'White','Hispanic','Black','Asian'\n",
    "colors = ['#FEB8EA','#99ff99','#F75ECB','#FCE38A']\n",
    "explode = (0, 0.2,0,0)  # explode 1st slice\n",
    "fig = plt.figure(figsize=(10,5))\n",
    "# Plot\n",
    "plt.title('Race Type Percentange', fontsize=22)\n",
    "patches, texts, autotexts = plt.pie(pop_size, explode=explode, labels=pop_labels, colors=colors,\n",
    "        autopct='%1.1f%%', shadow=True, startangle=150)\n",
    "for text,autotext in zip(texts,autotexts):\n",
    "    text.set_fontsize(14)\n",
    "    autotext.set_fontsize(14)\n",
    "\n",
    "plt.axis('equal')\n",
    "plt.show()"
   ]
  },
  {
   "cell_type": "code",
   "execution_count": 19,
   "metadata": {},
   "outputs": [],
   "source": [
    "fe=data.groupby('race').size()/len(data)\n",
    "data.loc[:, 'race_fe']=data['race'].map(fe)"
   ]
  },
  {
   "cell_type": "code",
   "execution_count": 21,
   "metadata": {},
   "outputs": [],
   "source": [
    "fe=data.groupby('gender').size()/len(data)\n",
    "data.loc[:, 'gender_fe']=data['gender'].map(fe)"
   ]
  },
  {
   "cell_type": "code",
   "execution_count": 22,
   "metadata": {},
   "outputs": [],
   "source": [
    "fe=data.groupby('age').size()/len(data)\n",
    "data.loc[:, 'age_fe']=data['age'].map(fe)"
   ]
  },
  {
   "cell_type": "code",
   "execution_count": 23,
   "metadata": {},
   "outputs": [
    {
     "data": {
      "text/html": [
       "<div>\n",
       "<style scoped>\n",
       "    .dataframe tbody tr th:only-of-type {\n",
       "        vertical-align: middle;\n",
       "    }\n",
       "\n",
       "    .dataframe tbody tr th {\n",
       "        vertical-align: top;\n",
       "    }\n",
       "\n",
       "    .dataframe thead th {\n",
       "        text-align: right;\n",
       "    }\n",
       "</style>\n",
       "<table border=\"1\" class=\"dataframe\">\n",
       "  <thead>\n",
       "    <tr style=\"text-align: right;\">\n",
       "      <th></th>\n",
       "      <th>name</th>\n",
       "      <th>side_effects</th>\n",
       "      <th>age_score</th>\n",
       "      <th>sideeffects_score</th>\n",
       "      <th>race_score</th>\n",
       "      <th>gender_score</th>\n",
       "      <th>score</th>\n",
       "      <th>ranking</th>\n",
       "      <th>race_fe</th>\n",
       "      <th>gender_fe</th>\n",
       "      <th>age_fe</th>\n",
       "    </tr>\n",
       "  </thead>\n",
       "  <tbody>\n",
       "    <tr>\n",
       "      <th>0</th>\n",
       "      <td>Justin Hopkins</td>\n",
       "      <td>No Side Effects</td>\n",
       "      <td>2</td>\n",
       "      <td>1</td>\n",
       "      <td>3</td>\n",
       "      <td>6</td>\n",
       "      <td>12</td>\n",
       "      <td>6.0</td>\n",
       "      <td>0.279552</td>\n",
       "      <td>0.699292</td>\n",
       "      <td>0.049633</td>\n",
       "    </tr>\n",
       "    <tr>\n",
       "      <th>1</th>\n",
       "      <td>Heather Murphy</td>\n",
       "      <td>Mild Side Effects</td>\n",
       "      <td>1</td>\n",
       "      <td>3</td>\n",
       "      <td>1</td>\n",
       "      <td>4</td>\n",
       "      <td>9</td>\n",
       "      <td>4.5</td>\n",
       "      <td>0.180570</td>\n",
       "      <td>0.300708</td>\n",
       "      <td>0.049625</td>\n",
       "    </tr>\n",
       "    <tr>\n",
       "      <th>2</th>\n",
       "      <td>Michael Burns</td>\n",
       "      <td>Extremely Severe Side Effects</td>\n",
       "      <td>8</td>\n",
       "      <td>2</td>\n",
       "      <td>4</td>\n",
       "      <td>6</td>\n",
       "      <td>20</td>\n",
       "      <td>10.0</td>\n",
       "      <td>0.321352</td>\n",
       "      <td>0.699292</td>\n",
       "      <td>0.159917</td>\n",
       "    </tr>\n",
       "    <tr>\n",
       "      <th>3</th>\n",
       "      <td>Amy Elliott</td>\n",
       "      <td>Moderate Side Effects</td>\n",
       "      <td>8</td>\n",
       "      <td>5</td>\n",
       "      <td>4</td>\n",
       "      <td>6</td>\n",
       "      <td>23</td>\n",
       "      <td>11.5</td>\n",
       "      <td>0.321352</td>\n",
       "      <td>0.699292</td>\n",
       "      <td>0.159917</td>\n",
       "    </tr>\n",
       "    <tr>\n",
       "      <th>4</th>\n",
       "      <td>Alexander Johnson</td>\n",
       "      <td>Moderate Side Effects</td>\n",
       "      <td>5</td>\n",
       "      <td>5</td>\n",
       "      <td>2</td>\n",
       "      <td>4</td>\n",
       "      <td>16</td>\n",
       "      <td>8.0</td>\n",
       "      <td>0.218525</td>\n",
       "      <td>0.300708</td>\n",
       "      <td>0.070763</td>\n",
       "    </tr>\n",
       "  </tbody>\n",
       "</table>\n",
       "</div>"
      ],
      "text/plain": [
       "                name                   side_effects  age_score  \\\n",
       "0     Justin Hopkins                No Side Effects          2   \n",
       "1     Heather Murphy              Mild Side Effects          1   \n",
       "2      Michael Burns  Extremely Severe Side Effects          8   \n",
       "3        Amy Elliott          Moderate Side Effects          8   \n",
       "4  Alexander Johnson          Moderate Side Effects          5   \n",
       "\n",
       "   sideeffects_score  race_score  gender_score  score  ranking   race_fe  \\\n",
       "0                  1           3             6     12      6.0  0.279552   \n",
       "1                  3           1             4      9      4.5  0.180570   \n",
       "2                  2           4             6     20     10.0  0.321352   \n",
       "3                  5           4             6     23     11.5  0.321352   \n",
       "4                  5           2             4     16      8.0  0.218525   \n",
       "\n",
       "   gender_fe    age_fe  \n",
       "0   0.699292  0.049633  \n",
       "1   0.300708  0.049625  \n",
       "2   0.699292  0.159917  \n",
       "3   0.699292  0.159917  \n",
       "4   0.300708  0.070763  "
      ]
     },
     "execution_count": 23,
     "metadata": {},
     "output_type": "execute_result"
    }
   ],
   "source": [
    "data=data.drop(['patient_id','race','gender','age'],axis=1)\n",
    "data.head()"
   ]
  },
  {
   "cell_type": "code",
   "execution_count": 24,
   "metadata": {},
   "outputs": [
    {
     "data": {
      "text/html": [
       "<div>\n",
       "<style scoped>\n",
       "    .dataframe tbody tr th:only-of-type {\n",
       "        vertical-align: middle;\n",
       "    }\n",
       "\n",
       "    .dataframe tbody tr th {\n",
       "        vertical-align: top;\n",
       "    }\n",
       "\n",
       "    .dataframe thead th {\n",
       "        text-align: right;\n",
       "    }\n",
       "</style>\n",
       "<table border=\"1\" class=\"dataframe\">\n",
       "  <thead>\n",
       "    <tr style=\"text-align: right;\">\n",
       "      <th></th>\n",
       "      <th>side_effects</th>\n",
       "      <th>ranking</th>\n",
       "      <th>race_fe</th>\n",
       "      <th>gender_fe</th>\n",
       "      <th>age_fe</th>\n",
       "    </tr>\n",
       "  </thead>\n",
       "  <tbody>\n",
       "    <tr>\n",
       "      <th>0</th>\n",
       "      <td>No Side Effects</td>\n",
       "      <td>6.0</td>\n",
       "      <td>0.279552</td>\n",
       "      <td>0.699292</td>\n",
       "      <td>0.049633</td>\n",
       "    </tr>\n",
       "    <tr>\n",
       "      <th>1</th>\n",
       "      <td>Mild Side Effects</td>\n",
       "      <td>4.5</td>\n",
       "      <td>0.180570</td>\n",
       "      <td>0.300708</td>\n",
       "      <td>0.049625</td>\n",
       "    </tr>\n",
       "    <tr>\n",
       "      <th>2</th>\n",
       "      <td>Extremely Severe Side Effects</td>\n",
       "      <td>10.0</td>\n",
       "      <td>0.321352</td>\n",
       "      <td>0.699292</td>\n",
       "      <td>0.159917</td>\n",
       "    </tr>\n",
       "    <tr>\n",
       "      <th>3</th>\n",
       "      <td>Moderate Side Effects</td>\n",
       "      <td>11.5</td>\n",
       "      <td>0.321352</td>\n",
       "      <td>0.699292</td>\n",
       "      <td>0.159917</td>\n",
       "    </tr>\n",
       "    <tr>\n",
       "      <th>4</th>\n",
       "      <td>Moderate Side Effects</td>\n",
       "      <td>8.0</td>\n",
       "      <td>0.218525</td>\n",
       "      <td>0.300708</td>\n",
       "      <td>0.070763</td>\n",
       "    </tr>\n",
       "  </tbody>\n",
       "</table>\n",
       "</div>"
      ],
      "text/plain": [
       "                    side_effects  ranking   race_fe  gender_fe    age_fe\n",
       "0                No Side Effects      6.0  0.279552   0.699292  0.049633\n",
       "1              Mild Side Effects      4.5  0.180570   0.300708  0.049625\n",
       "2  Extremely Severe Side Effects     10.0  0.321352   0.699292  0.159917\n",
       "3          Moderate Side Effects     11.5  0.321352   0.699292  0.159917\n",
       "4          Moderate Side Effects      8.0  0.218525   0.300708  0.070763"
      ]
     },
     "execution_count": 24,
     "metadata": {},
     "output_type": "execute_result"
    }
   ],
   "source": [
    "data=data.drop(['name','age_score','race_score','sideeffects_score','gender_score', 'score'],axis=1)\n",
    "data.head()"
   ]
  },
  {
   "cell_type": "code",
   "execution_count": 25,
   "metadata": {},
   "outputs": [
    {
     "name": "stdout",
     "output_type": "stream",
     "text": [
      "0         3\n",
      "1         1\n",
      "2         0\n",
      "3         2\n",
      "4         2\n",
      "         ..\n",
      "399995    0\n",
      "399996    3\n",
      "399997    3\n",
      "399998    2\n",
      "399999    0\n",
      "Name: side_effects, Length: 400000, dtype: int32\n"
     ]
    }
   ],
   "source": [
    "from sklearn.preprocessing import LabelEncoder\n",
    "encoder=LabelEncoder()\n",
    "encoder.fit(data[\"side_effects\"])\n",
    "data[\"side_effects\"]=encoder.transform(data[\"side_effects\"])\n",
    "print(data[\"side_effects\"])"
   ]
  },
  {
   "cell_type": "code",
   "execution_count": 26,
   "metadata": {},
   "outputs": [
    {
     "data": {
      "image/png": "[encoded data removed]",
      "text/plain": [
       "<Figure size 576x360 with 2 Axes>"
      ]
     },
     "metadata": {
      "needs_background": "light"
     },
     "output_type": "display_data"
    }
   ],
   "source": [
    "corrmatrix=data.corr()\n",
    "plt.subplots(figsize=(8,5))\n",
    "sns.heatmap(data.corr(),linewidths=.1,cmap=\"YlGnBu\", annot=True)\n",
    "plt.yticks(rotation=0);"
   ]
  },
  {
   "cell_type": "code",
   "execution_count": 27,
   "metadata": {},
   "outputs": [
    {
     "data": {
      "text/html": [
       "<div>\n",
       "<style scoped>\n",
       "    .dataframe tbody tr th:only-of-type {\n",
       "        vertical-align: middle;\n",
       "    }\n",
       "\n",
       "    .dataframe tbody tr th {\n",
       "        vertical-align: top;\n",
       "    }\n",
       "\n",
       "    .dataframe thead th {\n",
       "        text-align: right;\n",
       "    }\n",
       "</style>\n",
       "<table border=\"1\" class=\"dataframe\">\n",
       "  <thead>\n",
       "    <tr style=\"text-align: right;\">\n",
       "      <th></th>\n",
       "      <th>ranking</th>\n",
       "      <th>race_fe</th>\n",
       "      <th>gender_fe</th>\n",
       "      <th>age_fe</th>\n",
       "    </tr>\n",
       "  </thead>\n",
       "  <tbody>\n",
       "    <tr>\n",
       "      <th>0</th>\n",
       "      <td>6.0</td>\n",
       "      <td>0.279552</td>\n",
       "      <td>0.699292</td>\n",
       "      <td>0.049633</td>\n",
       "    </tr>\n",
       "    <tr>\n",
       "      <th>1</th>\n",
       "      <td>4.5</td>\n",
       "      <td>0.180570</td>\n",
       "      <td>0.300708</td>\n",
       "      <td>0.049625</td>\n",
       "    </tr>\n",
       "    <tr>\n",
       "      <th>2</th>\n",
       "      <td>10.0</td>\n",
       "      <td>0.321352</td>\n",
       "      <td>0.699292</td>\n",
       "      <td>0.159917</td>\n",
       "    </tr>\n",
       "    <tr>\n",
       "      <th>3</th>\n",
       "      <td>11.5</td>\n",
       "      <td>0.321352</td>\n",
       "      <td>0.699292</td>\n",
       "      <td>0.159917</td>\n",
       "    </tr>\n",
       "    <tr>\n",
       "      <th>4</th>\n",
       "      <td>8.0</td>\n",
       "      <td>0.218525</td>\n",
       "      <td>0.300708</td>\n",
       "      <td>0.070763</td>\n",
       "    </tr>\n",
       "  </tbody>\n",
       "</table>\n",
       "</div>"
      ],
      "text/plain": [
       "   ranking   race_fe  gender_fe    age_fe\n",
       "0      6.0  0.279552   0.699292  0.049633\n",
       "1      4.5  0.180570   0.300708  0.049625\n",
       "2     10.0  0.321352   0.699292  0.159917\n",
       "3     11.5  0.321352   0.699292  0.159917\n",
       "4      8.0  0.218525   0.300708  0.070763"
      ]
     },
     "execution_count": 27,
     "metadata": {},
     "output_type": "execute_result"
    }
   ],
   "source": [
    "x=data.drop('side_effects',axis=1)\n",
    "y=data['side_effects'] \n",
    "x.head()"
   ]
  },
  {
   "cell_type": "code",
   "execution_count": 28,
   "metadata": {},
   "outputs": [
    {
     "data": {
      "text/plain": [
       "ranking      float64\n",
       "race_fe      float64\n",
       "gender_fe    float64\n",
       "age_fe       float64\n",
       "dtype: object"
      ]
     },
     "execution_count": 28,
     "metadata": {},
     "output_type": "execute_result"
    }
   ],
   "source": [
    "x.dtypes"
   ]
  },
  {
   "cell_type": "code",
   "execution_count": 29,
   "metadata": {},
   "outputs": [],
   "source": [
    "from sklearn.model_selection import train_test_split\n",
    "x_train, x_test, y_train, y_test = train_test_split(x, y, test_size=0.35, random_state=42)"
   ]
  },
  {
   "cell_type": "code",
   "execution_count": 30,
   "metadata": {},
   "outputs": [
    {
     "data": {
      "text/plain": [
       "(400000, 4)"
      ]
     },
     "execution_count": 30,
     "metadata": {},
     "output_type": "execute_result"
    }
   ],
   "source": [
    "x.shape"
   ]
  },
  {
   "cell_type": "code",
   "execution_count": 32,
   "metadata": {},
   "outputs": [],
   "source": [
    "from sklearn.metrics import confusion_matrix, accuracy_score,precision_score,recall_score,f1_score\n"
   ]
  },
  {
   "cell_type": "code",
   "execution_count": 33,
   "metadata": {},
   "outputs": [],
   "source": [
    "from sklearn.linear_model import LogisticRegression\n",
    "logit_model = LogisticRegression()\n",
    "logit_model.fit(x_train, y_train)\n",
    "y_predlr = logit_model.predict(x_test)"
   ]
  },
  {
   "cell_type": "code",
   "execution_count": 34,
   "metadata": {},
   "outputs": [
    {
     "name": "stdout",
     "output_type": "stream",
     "text": [
      "0.6113357142857143\n"
     ]
    }
   ],
   "source": [
    "print(accuracy_score(y_test,y_predlr))"
   ]
  },
  {
   "cell_type": "code",
   "execution_count": 52,
   "metadata": {},
   "outputs": [
    {
     "name": "stdout",
     "output_type": "stream",
     "text": [
      "Weighted f1 score:0.60\n"
     ]
    }
   ],
   "source": [
    "print('Weighted f1 score:{:.2f}'.format(f1_score(y_test,y_predlr,average='weighted')))"
   ]
  },
  {
   "cell_type": "code",
   "execution_count": 49,
   "metadata": {},
   "outputs": [
    {
     "data": {
      "text/plain": [
       "array([[15731,  3927,     0,  2441,  3153],\n",
       "       [ 2633, 15062,  3654,   884,  5633],\n",
       "       [    0,  2054, 33947,     0,  3430],\n",
       "       [ 9830,  2734,     0,  4116,     0],\n",
       "       [ 1392,  3170,  9260,   218, 16731]], dtype=int64)"
      ]
     },
     "execution_count": 49,
     "metadata": {},
     "output_type": "execute_result"
    }
   ],
   "source": [
    "confusion_matrix(y_test,y_predlr)"
   ]
  },
  {
   "cell_type": "code",
   "execution_count": 35,
   "metadata": {},
   "outputs": [
    {
     "name": "stdout",
     "output_type": "stream",
     "text": [
      "1.0\n"
     ]
    }
   ],
   "source": [
    "from sklearn import tree\n",
    "clf=tree.DecisionTreeClassifier()\n",
    "clf.fit(x_train,y_train)\n",
    "y_preddt=clf.predict(x_test)\n",
    "from sklearn.metrics import accuracy_score\n",
    "print(accuracy_score(y_test,y_preddt))"
   ]
  },
  {
   "cell_type": "code",
   "execution_count": 36,
   "metadata": {},
   "outputs": [
    {
     "name": "stdout",
     "output_type": "stream",
     "text": [
      "23218     4\n",
      "20731     1\n",
      "39555     4\n",
      "147506    2\n",
      "314215    2\n",
      "         ..\n",
      "362985    0\n",
      "124599    1\n",
      "291845    3\n",
      "365050    3\n",
      "138199    1\n",
      "Name: side_effects, Length: 140000, dtype: int32 [4 1 4 ... 3 3 1]\n"
     ]
    }
   ],
   "source": [
    "y_pred=clf.predict(x_test)\n",
    "print(y_test, y_preddt)"
   ]
  },
  {
   "cell_type": "code",
   "execution_count": 37,
   "metadata": {},
   "outputs": [],
   "source": [
    "from sklearn.model_selection import train_test_split\n",
    "x_train, x_test, y_train, y_test = train_test_split(x, y, test_size=0.35, random_state=42)"
   ]
  },
  {
   "cell_type": "code",
   "execution_count": 38,
   "metadata": {},
   "outputs": [
    {
     "name": "stdout",
     "output_type": "stream",
     "text": [
      "Accuracy: 1.0\n"
     ]
    }
   ],
   "source": [
    "from sklearn.ensemble import RandomForestClassifier\n",
    "rf=RandomForestClassifier()\n",
    "rf.fit(x_train,y_train.values.ravel())\n",
    "y_predrf=rf.predict(x_test)\n",
    "from sklearn import metrics\n",
    "print(\"Accuracy:\",metrics.accuracy_score(y_test, y_predrf))"
   ]
  },
  {
   "cell_type": "code",
   "execution_count": 39,
   "metadata": {},
   "outputs": [
    {
     "data": {
      "text/plain": [
       "1.0"
      ]
     },
     "execution_count": 39,
     "metadata": {},
     "output_type": "execute_result"
    }
   ],
   "source": [
    "accuracy_score(y_test,y_predrf)"
   ]
  },
  {
   "cell_type": "code",
   "execution_count": 40,
   "metadata": {},
   "outputs": [],
   "source": [
    "#Feature Importance in Random Forest"
   ]
  },
  {
   "cell_type": "code",
   "execution_count": 41,
   "metadata": {},
   "outputs": [
    {
     "data": {
      "image/png": "[encoded data removed]",
      "text/plain": [
       "<Figure size 432x288 with 1 Axes>"
      ]
     },
     "metadata": {
      "needs_background": "light"
     },
     "output_type": "display_data"
    }
   ],
   "source": [
    "important_features = pd.DataFrame({'Features': x_train.columns, \n",
    "                                   'Importance': rf.feature_importances_})\n",
    "\n",
    "# sort the dataframe in the descending order according to the feature importance\n",
    "important_features = important_features.sort_values('Importance', ascending = False)\n",
    "\n",
    "# create a barplot to visualize the features based on their importance\n",
    "sns.barplot(x = 'Importance', y = 'Features', data = important_features[0:20])\n",
    "\n",
    "# add plot and axes labels\n",
    "# set text size using 'fontsize'\n",
    "plt.title('Feature Importance - RFC', fontsize = 15)\n",
    "plt.xlabel('Importance', fontsize = 15)\n",
    "plt.ylabel('Features', fontsize = 15)\n",
    "\n",
    "# display the plot\n",
    "plt.show()"
   ]
  },
  {
   "cell_type": "code",
   "execution_count": 42,
   "metadata": {},
   "outputs": [],
   "source": [
    "# Hyperparameter tuning of random forest"
   ]
  },
  {
   "cell_type": "code",
   "execution_count": 44,
   "metadata": {},
   "outputs": [
    {
     "data": {
      "text/plain": [
       "RandomForestClassifier(max_depth=7, max_features=4, min_samples_leaf=2,\n",
       "                       min_samples_split=5, n_estimators=1500, n_jobs=1,\n",
       "                       random_state=42)"
      ]
     },
     "execution_count": 44,
     "metadata": {},
     "output_type": "execute_result"
    }
   ],
   "source": [
    "from sklearn.ensemble import RandomForestClassifier\n",
    "rfh = RandomForestClassifier(max_depth=7, max_features=4, min_samples_leaf=2,\n",
    "                      min_samples_split=5, n_estimators=1500, n_jobs=1,\n",
    "                      random_state=42)\n",
    "rfh.fit(x_train, y_train)"
   ]
  },
  {
   "cell_type": "code",
   "execution_count": 47,
   "metadata": {},
   "outputs": [],
   "source": [
    "y_predrfh=rfh.predict(x_test)"
   ]
  },
  {
   "cell_type": "code",
   "execution_count": 48,
   "metadata": {},
   "outputs": [
    {
     "data": {
      "text/plain": [
       "0.5976214285714285"
      ]
     },
     "execution_count": 48,
     "metadata": {},
     "output_type": "execute_result"
    }
   ],
   "source": [
    "accuracy_score(y_test,y_predrfh)"
   ]
  },
  {
   "cell_type": "code",
   "execution_count": 50,
   "metadata": {},
   "outputs": [
    {
     "data": {
      "text/plain": [
       "array([[13044,  6239,  1089,  3786,  1094],\n",
       "       [ 5080, 14733,  4021,   590,  3442],\n",
       "       [  474,  2675, 35068,     0,  1214],\n",
       "       [ 5194,   495,   163, 10601,   227],\n",
       "       [ 1733,  7602, 11143,    72, 10221]], dtype=int64)"
      ]
     },
     "execution_count": 50,
     "metadata": {},
     "output_type": "execute_result"
    }
   ],
   "source": [
    "confusion_matrix(y_test,y_predrfh)"
   ]
  },
  {
   "cell_type": "code",
   "execution_count": 51,
   "metadata": {},
   "outputs": [
    {
     "name": "stdout",
     "output_type": "stream",
     "text": [
      "Weighted f1 score:0.58\n"
     ]
    }
   ],
   "source": [
    "print('Weighted f1 score:{:.2f}'.format(f1_score(y_test,y_predrfh,average='weighted')))"
   ]
  },
  {
   "cell_type": "code",
   "execution_count": null,
   "metadata": {},
   "outputs": [],
   "source": []
  }
 ],
 "metadata": {
  "kernelspec": {
   "display_name": "Python 3",
   "language": "python",
   "name": "python3"
  },
  "language_info": {
   "codemirror_mode": {
    "name": "ipython",
    "version": 3
   },
   "file_extension": ".py",
   "mimetype": "text/x-python",
   "name": "python",
   "nbconvert_exporter": "python",
   "pygments_lexer": "ipython3",
   "version": "3.8.3"
  }
 },
 "nbformat": 4,
 "nbformat_minor": 4
}
