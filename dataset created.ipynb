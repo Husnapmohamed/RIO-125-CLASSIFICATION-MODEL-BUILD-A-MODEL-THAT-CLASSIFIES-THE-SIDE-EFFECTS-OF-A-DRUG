{
 "cells": [
  {
   "cell_type": "code",
   "execution_count": 1,
   "metadata": {},
   "outputs": [],
   "source": [
    "from faker import Faker\n",
    "import numpy as np\n",
    "import pandas as pd\n",
    "from random import choice, sample\n",
    "import matplotlib.pyplot as plt\n",
    "import seaborn as sns\n",
    "%matplotlib inline"
   ]
  },
  {
   "cell_type": "code",
   "execution_count": 2,
   "metadata": {},
   "outputs": [],
   "source": [
    "df1 = Faker()"
   ]
  },
  {
   "cell_type": "code",
   "execution_count": 5,
   "metadata": {},
   "outputs": [],
   "source": [
    "def create_names(n):\n",
    "   name = []\n",
    "   for _ in range(0, n):\n",
    "        name.append(df1.name())\n",
    "   return name"
   ]
  },
  {
   "cell_type": "code",
   "execution_count": 6,
   "metadata": {},
   "outputs": [],
   "source": [
    "name = create_names(400000)"
   ]
  },
  {
   "cell_type": "code",
   "execution_count": 7,
   "metadata": {},
   "outputs": [],
   "source": [
    "patient_id = np.random.randint(1, 400000, size = 400000, dtype = 'int')"
   ]
  },
  {
   "cell_type": "code",
   "execution_count": 8,
   "metadata": {},
   "outputs": [],
   "source": [
    "df2 = pd.DataFrame(list(zip(patient_id,name,)),\n",
    "                   columns = [ 'patient_id','name'])"
   ]
  },
  {
   "cell_type": "code",
   "execution_count": 9,
   "metadata": {},
   "outputs": [
    {
     "data": {
      "text/html": [
       "<div>\n",
       "<style scoped>\n",
       "    .dataframe tbody tr th:only-of-type {\n",
       "        vertical-align: middle;\n",
       "    }\n",
       "\n",
       "    .dataframe tbody tr th {\n",
       "        vertical-align: top;\n",
       "    }\n",
       "\n",
       "    .dataframe thead th {\n",
       "        text-align: right;\n",
       "    }\n",
       "</style>\n",
       "<table border=\"1\" class=\"dataframe\">\n",
       "  <thead>\n",
       "    <tr style=\"text-align: right;\">\n",
       "      <th></th>\n",
       "      <th>patient_id</th>\n",
       "      <th>name</th>\n",
       "    </tr>\n",
       "  </thead>\n",
       "  <tbody>\n",
       "    <tr>\n",
       "      <th>0</th>\n",
       "      <td>48683</td>\n",
       "      <td>Justin Hopkins</td>\n",
       "    </tr>\n",
       "    <tr>\n",
       "      <th>1</th>\n",
       "      <td>101343</td>\n",
       "      <td>Heather Murphy</td>\n",
       "    </tr>\n",
       "    <tr>\n",
       "      <th>2</th>\n",
       "      <td>66360</td>\n",
       "      <td>Michael Burns</td>\n",
       "    </tr>\n",
       "    <tr>\n",
       "      <th>3</th>\n",
       "      <td>244456</td>\n",
       "      <td>Amy Elliott</td>\n",
       "    </tr>\n",
       "    <tr>\n",
       "      <th>4</th>\n",
       "      <td>7720</td>\n",
       "      <td>Alexander Johnson</td>\n",
       "    </tr>\n",
       "  </tbody>\n",
       "</table>\n",
       "</div>"
      ],
      "text/plain": [
       "   patient_id               name\n",
       "0       48683     Justin Hopkins\n",
       "1      101343     Heather Murphy\n",
       "2       66360      Michael Burns\n",
       "3      244456        Amy Elliott\n",
       "4        7720  Alexander Johnson"
      ]
     },
     "execution_count": 9,
     "metadata": {},
     "output_type": "execute_result"
    }
   ],
   "source": [
    "df2.head()"
   ]
  },
  {
   "cell_type": "code",
   "execution_count": 10,
   "metadata": {},
   "outputs": [],
   "source": [
    "import numpy as np\n",
    "\n",
    "def weighted_cartesian_choice(*iterables):\n",
    "    \n",
    "   # An arbitrary number of tuple or lists,each consisting of population and weights.weighted_cartesian_choice returns a list \n",
    "    #with a chocie from each population\n",
    "    \n",
    "    res = []\n",
    "    for population, weights in iterables:\n",
    "     #normalize weight:\n",
    "        weights = np.array(weights) / sum(weights)\n",
    "        lst = np.random.choice(population, p=weights)\n",
    "        res.append(lst)\n",
    "    return res\n",
    "\n",
    "gender = (['male','female'], \n",
    "          [0.3, 0.7])\n",
    "\n",
    "age = (['0-10','10-20','20-30','30-40','40-50','50-60','60-70','70-80','80-90','90-100'], \n",
    "       [.08,.05,.07,.18,.05,.16,.06,.19,.07,.09])\n",
    "race = (['White','Hispanic', 'Black','Asian'], \n",
    "        [.32,.28,.22,.18])\n",
    "side_effects = (['No Side Effects', 'Mild Side Effects', 'Moderate Side Effects', 'Severe Side Effects', 'Extremely Severe Side Effects'], \n",
    "               [.12,.20,.28,.22,.18])\n",
    "\n",
    "list=[]\n",
    "for i in range(400000):\n",
    "    res = weighted_cartesian_choice(gender,\n",
    "                                    age,\n",
    "                                    race,\n",
    "                                    side_effects)\n",
    "    list.append(res)\n",
    "  "
   ]
  },
  {
   "cell_type": "code",
   "execution_count": 11,
   "metadata": {},
   "outputs": [],
   "source": [
    "newdata=pd.DataFrame(list, columns = ['gender','age','race','side_effects'])"
   ]
  },
  {
   "cell_type": "code",
   "execution_count": 16,
   "metadata": {},
   "outputs": [
    {
     "data": {
      "text/html": [
       "<div>\n",
       "<style scoped>\n",
       "    .dataframe tbody tr th:only-of-type {\n",
       "        vertical-align: middle;\n",
       "    }\n",
       "\n",
       "    .dataframe tbody tr th {\n",
       "        vertical-align: top;\n",
       "    }\n",
       "\n",
       "    .dataframe thead th {\n",
       "        text-align: right;\n",
       "    }\n",
       "</style>\n",
       "<table border=\"1\" class=\"dataframe\">\n",
       "  <thead>\n",
       "    <tr style=\"text-align: right;\">\n",
       "      <th></th>\n",
       "      <th>gender</th>\n",
       "      <th>age</th>\n",
       "      <th>race</th>\n",
       "      <th>side_effects</th>\n",
       "    </tr>\n",
       "  </thead>\n",
       "  <tbody>\n",
       "    <tr>\n",
       "      <th>0</th>\n",
       "      <td>female</td>\n",
       "      <td>10-20</td>\n",
       "      <td>Hispanic</td>\n",
       "      <td>No Side Effects</td>\n",
       "    </tr>\n",
       "    <tr>\n",
       "      <th>1</th>\n",
       "      <td>male</td>\n",
       "      <td>40-50</td>\n",
       "      <td>Asian</td>\n",
       "      <td>Mild Side Effects</td>\n",
       "    </tr>\n",
       "    <tr>\n",
       "      <th>2</th>\n",
       "      <td>female</td>\n",
       "      <td>50-60</td>\n",
       "      <td>White</td>\n",
       "      <td>Extremely Severe Side Effects</td>\n",
       "    </tr>\n",
       "    <tr>\n",
       "      <th>3</th>\n",
       "      <td>female</td>\n",
       "      <td>50-60</td>\n",
       "      <td>White</td>\n",
       "      <td>Moderate Side Effects</td>\n",
       "    </tr>\n",
       "    <tr>\n",
       "      <th>4</th>\n",
       "      <td>male</td>\n",
       "      <td>20-30</td>\n",
       "      <td>Black</td>\n",
       "      <td>Moderate Side Effects</td>\n",
       "    </tr>\n",
       "  </tbody>\n",
       "</table>\n",
       "</div>"
      ],
      "text/plain": [
       "   gender    age      race                   side_effects\n",
       "0  female  10-20  Hispanic                No Side Effects\n",
       "1    male  40-50     Asian              Mild Side Effects\n",
       "2  female  50-60     White  Extremely Severe Side Effects\n",
       "3  female  50-60     White          Moderate Side Effects\n",
       "4    male  20-30     Black          Moderate Side Effects"
      ]
     },
     "execution_count": 16,
     "metadata": {},
     "output_type": "execute_result"
    }
   ],
   "source": [
    "newdata.head()"
   ]
  },
  {
   "cell_type": "code",
   "execution_count": 13,
   "metadata": {},
   "outputs": [],
   "source": [
    " data = pd.concat([df2, newdata], axis=1).reindex(newdata.index)"
   ]
  },
  {
   "cell_type": "code",
   "execution_count": 14,
   "metadata": {},
   "outputs": [
    {
     "data": {
      "text/html": [
       "<div>\n",
       "<style scoped>\n",
       "    .dataframe tbody tr th:only-of-type {\n",
       "        vertical-align: middle;\n",
       "    }\n",
       "\n",
       "    .dataframe tbody tr th {\n",
       "        vertical-align: top;\n",
       "    }\n",
       "\n",
       "    .dataframe thead th {\n",
       "        text-align: right;\n",
       "    }\n",
       "</style>\n",
       "<table border=\"1\" class=\"dataframe\">\n",
       "  <thead>\n",
       "    <tr style=\"text-align: right;\">\n",
       "      <th></th>\n",
       "      <th>patient_id</th>\n",
       "      <th>name</th>\n",
       "      <th>gender</th>\n",
       "      <th>age</th>\n",
       "      <th>race</th>\n",
       "      <th>side_effects</th>\n",
       "    </tr>\n",
       "  </thead>\n",
       "  <tbody>\n",
       "    <tr>\n",
       "      <th>0</th>\n",
       "      <td>48683</td>\n",
       "      <td>Justin Hopkins</td>\n",
       "      <td>female</td>\n",
       "      <td>10-20</td>\n",
       "      <td>Hispanic</td>\n",
       "      <td>No Side Effects</td>\n",
       "    </tr>\n",
       "    <tr>\n",
       "      <th>1</th>\n",
       "      <td>101343</td>\n",
       "      <td>Heather Murphy</td>\n",
       "      <td>male</td>\n",
       "      <td>40-50</td>\n",
       "      <td>Asian</td>\n",
       "      <td>Mild Side Effects</td>\n",
       "    </tr>\n",
       "    <tr>\n",
       "      <th>2</th>\n",
       "      <td>66360</td>\n",
       "      <td>Michael Burns</td>\n",
       "      <td>female</td>\n",
       "      <td>50-60</td>\n",
       "      <td>White</td>\n",
       "      <td>Extremely Severe Side Effects</td>\n",
       "    </tr>\n",
       "    <tr>\n",
       "      <th>3</th>\n",
       "      <td>244456</td>\n",
       "      <td>Amy Elliott</td>\n",
       "      <td>female</td>\n",
       "      <td>50-60</td>\n",
       "      <td>White</td>\n",
       "      <td>Moderate Side Effects</td>\n",
       "    </tr>\n",
       "    <tr>\n",
       "      <th>4</th>\n",
       "      <td>7720</td>\n",
       "      <td>Alexander Johnson</td>\n",
       "      <td>male</td>\n",
       "      <td>20-30</td>\n",
       "      <td>Black</td>\n",
       "      <td>Moderate Side Effects</td>\n",
       "    </tr>\n",
       "  </tbody>\n",
       "</table>\n",
       "</div>"
      ],
      "text/plain": [
       "   patient_id               name  gender    age      race  \\\n",
       "0       48683     Justin Hopkins  female  10-20  Hispanic   \n",
       "1      101343     Heather Murphy    male  40-50     Asian   \n",
       "2       66360      Michael Burns  female  50-60     White   \n",
       "3      244456        Amy Elliott  female  50-60     White   \n",
       "4        7720  Alexander Johnson    male  20-30     Black   \n",
       "\n",
       "                    side_effects  \n",
       "0                No Side Effects  \n",
       "1              Mild Side Effects  \n",
       "2  Extremely Severe Side Effects  \n",
       "3          Moderate Side Effects  \n",
       "4          Moderate Side Effects  "
      ]
     },
     "execution_count": 14,
     "metadata": {},
     "output_type": "execute_result"
    }
   ],
   "source": [
    "data.head()"
   ]
  },
  {
   "cell_type": "code",
   "execution_count": 15,
   "metadata": {},
   "outputs": [],
   "source": [
    "new_dataset = data.to_csv(\"patientprofile.csv\",index=False)"
   ]
  },
  {
   "cell_type": "code",
   "execution_count": null,
   "metadata": {},
   "outputs": [],
   "source": []
  }
 ],
 "metadata": {
  "kernelspec": {
   "display_name": "Python 3",
   "language": "python",
   "name": "python3"
  },
  "language_info": {
   "codemirror_mode": {
    "name": "ipython",
    "version": 3
   },
   "file_extension": ".py",
   "mimetype": "text/x-python",
   "name": "python",
   "nbconvert_exporter": "python",
   "pygments_lexer": "ipython3",
   "version": "3.8.3"
  }
 },
 "nbformat": 4,
 "nbformat_minor": 4
}
